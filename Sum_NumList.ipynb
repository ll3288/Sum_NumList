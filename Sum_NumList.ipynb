{
 "cells": [
  {
   "cell_type": "code",
   "execution_count": 2,
   "metadata": {},
   "outputs": [
    {
     "name": "stdout",
     "output_type": "stream",
     "text": [
      "Enter a positive int (-999 to quit): 5\n",
      "Enter a positive int (-999 to quit): 6\n",
      "Enter a positive int (-999 to quit): 3\n",
      "Enter a positive int (-999 to quit): -999\n",
      "[5, 6, 3]\n",
      "14\n"
     ]
    }
   ],
   "source": [
    "def make_list():\n",
    "    numbers_stored=[]\n",
    "    number = int(input(\"Enter a positive int (-999 to quit): \"))\n",
    "    while number != -999:\n",
    "        numbers_stored.append(number) \n",
    "        number = int(input(\"Enter a positive int (-999 to quit): \")) \n",
    "    print(numbers_stored)\n",
    "    return numbers_stored\n",
    "\n",
    "def sum_list(all_numbers):\n",
    "    total = 0\n",
    "    for x in all_numbers:\n",
    "        total += x\n",
    "    #print (\"The sum of all numbers stored in the list is:\", total)\n",
    "    return total\n",
    "\n",
    "print(sum_list(make_list()))"
   ]
  },
  {
   "cell_type": "code",
   "execution_count": null,
   "metadata": {},
   "outputs": [],
   "source": []
  }
 ],
 "metadata": {
  "kernelspec": {
   "display_name": "Python 3",
   "language": "python",
   "name": "python3"
  },
  "language_info": {
   "codemirror_mode": {
    "name": "ipython",
    "version": 3
   },
   "file_extension": ".py",
   "mimetype": "text/x-python",
   "name": "python",
   "nbconvert_exporter": "python",
   "pygments_lexer": "ipython3",
   "version": "3.8.3"
  }
 },
 "nbformat": 4,
 "nbformat_minor": 4
}
